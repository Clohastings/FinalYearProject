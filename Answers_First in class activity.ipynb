{
 "cells": [
  {
   "cell_type": "markdown",
   "metadata": {},
   "source": [
    "# Answers to in class activity 1"
   ]
  },
  {
   "cell_type": "markdown",
   "metadata": {},
   "source": [
    "**2018 1b) Hydrogen atom energies**"
   ]
  },
  {
   "cell_type": "code",
   "execution_count": 17,
   "metadata": {},
   "outputs": [
    {
     "name": "stdout",
     "output_type": "stream",
     "text": [
      "i) wavelength =  243 nm\n",
      "ii) wavelength =  0.0012131551180463102 nm\n"
     ]
    }
   ],
   "source": [
    "#first question\n",
    "\n",
    "import scipy.constants as sc\n",
    "\n",
    "# reduced mass forumal(u)  = m1m2/m1 + m2\n",
    "u = (sc.m_e**2)/(sc.m_e+sc.m_e)\n",
    "\n",
    "E2 = - ((sc.e**4)*u)/(32*(sc.pi**2)*(sc.epsilon_0**2)*(sc.hbar**2)*(2**2))\n",
    "E1 = - ((sc.e**4)*u)/(32*(sc.pi**2)*(sc.epsilon_0**2)*(sc.hbar**2)*(1**2))\n",
    "en_diff = E2 - E1\n",
    "\n",
    "w_m = (sc.h*sc.c)/en_diff\n",
    "w_nm = w_m*1e9\n",
    "\n",
    "print(\"i) wavelength = \",int(w_nm), \"nm\")\n",
    "\n",
    "\n",
    "#second question\n",
    "\n",
    "#Energy = mass x c^2\n",
    "\n",
    "E = (sc.m_e*2)*(sc.c**2)\n",
    "w_m_2 = (sc.h*sc.c/E)\n",
    "w_nm_2 = w_m_2*1e9\n",
    "\n",
    "\n",
    "print(\"ii) wavelength = \",float(w_nm_2), \"nm\")\n"
   ]
  },
  {
   "cell_type": "markdown",
   "metadata": {},
   "source": [
    "**2019 1b) Hydrogen atom energies**\n",
    "\n",
    "(i) 8\n",
    "(ii) 787 pm \n",
    "(iii) 481 nm"
   ]
  },
  {
   "cell_type": "markdown",
   "metadata": {},
   "source": [
    "This part caused few distinct problems, but it was a bit odd that some people forgot to double the value of L (or make some more sophisticated estimate of the length of the molecule)"
   ]
  },
  {
   "cell_type": "code",
   "execution_count": 45,
   "metadata": {},
   "outputs": [
    {
     "name": "stdout",
     "output_type": "stream",
     "text": [
      "i) Number of pi electrons in C8H2 =  8.0\n",
      "8.750862661549594e-19 J\n",
      "787.1588000792171 pm\n",
      "480.7058823529412 nm\n"
     ]
    }
   ],
   "source": [
    "#i) Polyynes are linear molecules with alternating single and triple bonds. Triple bonds are made up of pi bonds and sigma bonds.\n",
    "\n",
    "N = 8\n",
    "Triple_bonds = N/2\n",
    "\n",
    "#There are 2 electrons in a pi system so\n",
    "\n",
    "pi_electrons = Triple_bonds*2\n",
    "\n",
    "print(\"i) Number of pi electrons in C8H2 = \", pi_electrons)\n",
    "\n",
    "\n",
    "#ii) For part (b), the main problem was recognising that absorption or emission of light is to do with transitions between pairs of states, not energies of individual states.\n",
    "\n",
    "import scipy.constants as sc\n",
    "# using E = h*c/w to find the energy difference\n",
    "w_nm = 227\n",
    "w_m = w_nm*1e-9\n",
    "w_en_diff = (sc.h*sc.c)/w_m\n",
    "\n",
    "print(w_en_diff, \"J\")\n",
    "\n",
    "# using E = (h**2)*(n**2)/(8*m*(L**2))\n",
    "n5 = 5\n",
    "n4 = 4\n",
    "\n",
    "L_sq = (n5**2 - n4**2)*(sc.h**2)/(8*sc.electron_mass*w_en_diff)\n",
    "\n",
    "import math\n",
    "L_m = math.sqrt(L_sq) \n",
    "L_pm = L_m*1e12\n",
    "\n",
    "print(L_pm, \"pm\")\n",
    "\n",
    "#iii) predict the wavelength of the absorption maximum for the C16H2 system\n",
    "\n",
    "n8 = 8\n",
    "n9 = 9\n",
    "en_diff_part_3 = (n9**2 - n8**2)*(sc.h**2)/(8*sc.electron_mass*(2*L_m)**2)\n",
    "w_m_part_3 = (sc.h*sc.c)/en_diff_part_3\n",
    "w_nm_part_3 = w_m_part_3*1e9\n",
    "\n",
    "print(w_nm_part_3, \"nm\")"
   ]
  },
  {
   "cell_type": "code",
   "execution_count": null,
   "metadata": {},
   "outputs": [],
   "source": []
  }
 ],
 "metadata": {
  "kernelspec": {
   "display_name": "Python 3",
   "language": "python",
   "name": "python3"
  },
  "language_info": {
   "codemirror_mode": {
    "name": "ipython",
    "version": 3
   },
   "file_extension": ".py",
   "mimetype": "text/x-python",
   "name": "python",
   "nbconvert_exporter": "python",
   "pygments_lexer": "ipython3",
   "version": "3.7.0"
  }
 },
 "nbformat": 4,
 "nbformat_minor": 2
}
